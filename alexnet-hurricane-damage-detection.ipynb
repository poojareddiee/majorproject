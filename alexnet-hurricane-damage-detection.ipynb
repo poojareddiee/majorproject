{
 "cells": [
  {
   "cell_type": "code",
   "execution_count": 1,
   "id": "9456ab9f",
   "metadata": {
    "execution": {
     "iopub.execute_input": "2021-09-01T09:53:24.824742Z",
     "iopub.status.busy": "2021-09-01T09:53:24.823212Z",
     "iopub.status.idle": "2021-09-01T09:53:25.588826Z",
     "shell.execute_reply": "2021-09-01T09:53:25.588140Z",
     "shell.execute_reply.started": "2021-09-01T09:36:17.615131Z"
    },
    "papermill": {
     "duration": 0.786596,
     "end_time": "2021-09-01T09:53:25.588998",
     "exception": false,
     "start_time": "2021-09-01T09:53:24.802402",
     "status": "completed"
    },
    "tags": []
   },
   "outputs": [],
   "source": [
    "import pandas as pd\n",
    "import numpy as np\n",
    "import os\n",
    "from glob import glob\n",
    "import random\n",
    "import matplotlib.pylab as plt\n",
    "import seaborn as sns\n",
    "pd.set_option('display.max_colwidth', None)"
   ]
  },
  {
   "cell_type": "markdown",
   "id": "6bcc9f7d",
   "metadata": {
    "papermill": {
     "duration": 0.017334,
     "end_time": "2021-09-01T09:53:25.624325",
     "exception": false,
     "start_time": "2021-09-01T09:53:25.606991",
     "status": "completed"
    },
    "tags": []
   },
   "source": [
    "# Welcome here!!!"
   ]
  },
  {
   "cell_type": "markdown",
   "id": "3be7a6c1",
   "metadata": {
    "papermill": {
     "duration": 0.016524,
     "end_time": "2021-09-01T09:53:25.657820",
     "exception": false,
     "start_time": "2021-09-01T09:53:25.641296",
     "status": "completed"
    },
    "tags": []
   },
   "source": [
    "**Lets get all the images from the dataset and store the paths as well as their labels**"
   ]
  },
  {
   "cell_type": "code",
   "execution_count": 2,
   "id": "d131dc3c",
   "metadata": {
    "execution": {
     "iopub.execute_input": "2021-09-01T09:53:25.696485Z",
     "iopub.status.busy": "2021-09-01T09:53:25.695875Z",
     "iopub.status.idle": "2021-09-01T09:54:09.060209Z",
     "shell.execute_reply": "2021-09-01T09:54:09.059749Z",
     "shell.execute_reply.started": "2021-09-01T09:36:18.699818Z"
    },
    "papermill": {
     "duration": 43.385817,
     "end_time": "2021-09-01T09:54:09.060341",
     "exception": false,
     "start_time": "2021-09-01T09:53:25.674524",
     "status": "completed"
    },
    "tags": []
   },
   "outputs": [],
   "source": [
    "img_paths=[]\n",
    "img_labels=[]\n",
    "for i in glob('../input/satellite-images-of-hurricane-damage/**',recursive=True):\n",
    "    if i.endswith('.jpeg'):\n",
    "        a=i.split('/')\n",
    "        img_paths.append(i)\n",
    "        img_labels.append(a[-2])"
   ]
  },
  {
   "cell_type": "code",
   "execution_count": 3,
   "id": "3751a069",
   "metadata": {
    "execution": {
     "iopub.execute_input": "2021-09-01T09:54:09.099894Z",
     "iopub.status.busy": "2021-09-01T09:54:09.099234Z",
     "iopub.status.idle": "2021-09-01T09:54:09.102404Z",
     "shell.execute_reply": "2021-09-01T09:54:09.102843Z",
     "shell.execute_reply.started": "2021-09-01T09:36:43.540128Z"
    },
    "papermill": {
     "duration": 0.02618,
     "end_time": "2021-09-01T09:54:09.102973",
     "exception": false,
     "start_time": "2021-09-01T09:54:09.076793",
     "status": "completed"
    },
    "tags": []
   },
   "outputs": [
    {
     "data": {
      "text/plain": [
       "(23000, 23000)"
      ]
     },
     "execution_count": 3,
     "metadata": {},
     "output_type": "execute_result"
    }
   ],
   "source": [
    "len(img_paths),len(img_labels)"
   ]
  },
  {
   "cell_type": "code",
   "execution_count": 4,
   "id": "6d1577a0",
   "metadata": {
    "execution": {
     "iopub.execute_input": "2021-09-01T09:54:09.139917Z",
     "iopub.status.busy": "2021-09-01T09:54:09.139335Z",
     "iopub.status.idle": "2021-09-01T09:54:09.142795Z",
     "shell.execute_reply": "2021-09-01T09:54:09.142402Z",
     "shell.execute_reply.started": "2021-09-01T09:36:43.556623Z"
    },
    "papermill": {
     "duration": 0.02347,
     "end_time": "2021-09-01T09:54:09.142901",
     "exception": false,
     "start_time": "2021-09-01T09:54:09.119431",
     "status": "completed"
    },
    "tags": []
   },
   "outputs": [
    {
     "name": "stdout",
     "output_type": "stream",
     "text": [
      "We got total 23000 images\n"
     ]
    }
   ],
   "source": [
    "print('We got total '+str(len(img_paths))+' images')"
   ]
  },
  {
   "cell_type": "markdown",
   "id": "c6a1a8ee",
   "metadata": {
    "papermill": {
     "duration": 0.016447,
     "end_time": "2021-09-01T09:54:09.175845",
     "exception": false,
     "start_time": "2021-09-01T09:54:09.159398",
     "status": "completed"
    },
    "tags": []
   },
   "source": [
    "**Saving the image paths and their labels into dataframe**"
   ]
  },
  {
   "cell_type": "code",
   "execution_count": 5,
   "id": "56f21f64",
   "metadata": {
    "execution": {
     "iopub.execute_input": "2021-09-01T09:54:09.218471Z",
     "iopub.status.busy": "2021-09-01T09:54:09.217789Z",
     "iopub.status.idle": "2021-09-01T09:54:09.237486Z",
     "shell.execute_reply": "2021-09-01T09:54:09.237042Z",
     "shell.execute_reply.started": "2021-09-01T09:36:43.567556Z"
    },
    "papermill": {
     "duration": 0.045205,
     "end_time": "2021-09-01T09:54:09.237598",
     "exception": false,
     "start_time": "2021-09-01T09:54:09.192393",
     "status": "completed"
    },
    "tags": []
   },
   "outputs": [
    {
     "data": {
      "text/html": [
       "<div>\n",
       "<style scoped>\n",
       "    .dataframe tbody tr th:only-of-type {\n",
       "        vertical-align: middle;\n",
       "    }\n",
       "\n",
       "    .dataframe tbody tr th {\n",
       "        vertical-align: top;\n",
       "    }\n",
       "\n",
       "    .dataframe thead th {\n",
       "        text-align: right;\n",
       "    }\n",
       "</style>\n",
       "<table border=\"1\" class=\"dataframe\">\n",
       "  <thead>\n",
       "    <tr style=\"text-align: right;\">\n",
       "      <th></th>\n",
       "      <th>0</th>\n",
       "      <th>1</th>\n",
       "    </tr>\n",
       "  </thead>\n",
       "  <tbody>\n",
       "    <tr>\n",
       "      <th>11003</th>\n",
       "      <td>../input/satellite-images-of-hurricane-damage/test_another/damage/-95.078377_30.029891999999997.jpeg</td>\n",
       "      <td>damage</td>\n",
       "    </tr>\n",
       "    <tr>\n",
       "      <th>1719</th>\n",
       "      <td>../input/satellite-images-of-hurricane-damage/train_another/damage/-95.07911700000001_29.817569.jpeg</td>\n",
       "      <td>damage</td>\n",
       "    </tr>\n",
       "    <tr>\n",
       "      <th>18019</th>\n",
       "      <td>../input/satellite-images-of-hurricane-damage/test_another/no_damage/-95.578709_29.986240000000002.jpeg</td>\n",
       "      <td>no_damage</td>\n",
       "    </tr>\n",
       "    <tr>\n",
       "      <th>8971</th>\n",
       "      <td>../input/satellite-images-of-hurricane-damage/train_another/no_damage/-95.630075_29.858796999999996.jpeg</td>\n",
       "      <td>no_damage</td>\n",
       "    </tr>\n",
       "    <tr>\n",
       "      <th>1230</th>\n",
       "      <td>../input/satellite-images-of-hurricane-damage/train_another/damage/-95.53323_29.747687.jpeg</td>\n",
       "      <td>damage</td>\n",
       "    </tr>\n",
       "  </tbody>\n",
       "</table>\n",
       "</div>"
      ],
      "text/plain": [
       "                                                                                                              0  \\\n",
       "11003      ../input/satellite-images-of-hurricane-damage/test_another/damage/-95.078377_30.029891999999997.jpeg   \n",
       "1719       ../input/satellite-images-of-hurricane-damage/train_another/damage/-95.07911700000001_29.817569.jpeg   \n",
       "18019   ../input/satellite-images-of-hurricane-damage/test_another/no_damage/-95.578709_29.986240000000002.jpeg   \n",
       "8971   ../input/satellite-images-of-hurricane-damage/train_another/no_damage/-95.630075_29.858796999999996.jpeg   \n",
       "1230                ../input/satellite-images-of-hurricane-damage/train_another/damage/-95.53323_29.747687.jpeg   \n",
       "\n",
       "               1  \n",
       "11003     damage  \n",
       "1719      damage  \n",
       "18019  no_damage  \n",
       "8971   no_damage  \n",
       "1230      damage  "
      ]
     },
     "execution_count": 5,
     "metadata": {},
     "output_type": "execute_result"
    }
   ],
   "source": [
    "img_path = pd.Series(img_paths).astype(str)\n",
    "labels=pd.Series(img_labels)\n",
    "data = pd.concat([img_path,labels],axis=1)\n",
    "data.sample(5)"
   ]
  },
  {
   "cell_type": "code",
   "execution_count": 6,
   "id": "bb9c0070",
   "metadata": {
    "execution": {
     "iopub.execute_input": "2021-09-01T09:54:09.292708Z",
     "iopub.status.busy": "2021-09-01T09:54:09.291993Z",
     "iopub.status.idle": "2021-09-01T09:54:09.445265Z",
     "shell.execute_reply": "2021-09-01T09:54:09.445702Z",
     "shell.execute_reply.started": "2021-09-01T09:36:43.606615Z"
    },
    "papermill": {
     "duration": 0.191434,
     "end_time": "2021-09-01T09:54:09.445837",
     "exception": false,
     "start_time": "2021-09-01T09:54:09.254403",
     "status": "completed"
    },
    "tags": []
   },
   "outputs": [
    {
     "data": {
      "text/plain": [
       "<AxesSubplot:xlabel='1', ylabel='count'>"
      ]
     },
     "execution_count": 6,
     "metadata": {},
     "output_type": "execute_result"
    },
    {
     "data": {
      "image/png": "[encoded data removed]",
      "text/plain": [
       "<Figure size 1080x360 with 1 Axes>"
      ]
     },
     "metadata": {
      "needs_background": "light"
     },
     "output_type": "display_data"
    }
   ],
   "source": [
    "plt.figure(figsize=(15,5))\n",
    "sns.countplot(x=data[1])"
   ]
  },
  {
   "cell_type": "markdown",
   "id": "abddea46",
   "metadata": {
    "papermill": {
     "duration": 0.01836,
     "end_time": "2021-09-01T09:54:09.482188",
     "exception": false,
     "start_time": "2021-09-01T09:54:09.463828",
     "status": "completed"
    },
    "tags": []
   },
   "source": [
    "> It seems the number of no damage is half than actual damage image."
   ]
  },
  {
   "cell_type": "code",
   "execution_count": 7,
   "id": "cb2d24b6",
   "metadata": {
    "execution": {
     "iopub.execute_input": "2021-09-01T09:54:09.521840Z",
     "iopub.status.busy": "2021-09-01T09:54:09.521310Z",
     "iopub.status.idle": "2021-09-01T09:54:09.663764Z",
     "shell.execute_reply": "2021-09-01T09:54:09.664129Z",
     "shell.execute_reply.started": "2021-09-01T09:36:43.857088Z"
    },
    "papermill": {
     "duration": 0.164253,
     "end_time": "2021-09-01T09:54:09.664284",
     "exception": false,
     "start_time": "2021-09-01T09:54:09.500031",
     "status": "completed"
    },
    "tags": []
   },
   "outputs": [
    {
     "data": {
      "text/plain": [
       "((17250, 2), (5750, 2))"
      ]
     },
     "execution_count": 7,
     "metadata": {},
     "output_type": "execute_result"
    }
   ],
   "source": [
    "from sklearn.model_selection import train_test_split\n",
    "train_set , test_set = train_test_split(data,test_size=0.25,random_state=0)\n",
    "train_set.shape,test_set.shape"
   ]
  },
  {
   "cell_type": "markdown",
   "id": "6d6a16d7",
   "metadata": {
    "papermill": {
     "duration": 0.018065,
     "end_time": "2021-09-01T09:54:09.700360",
     "exception": false,
     "start_time": "2021-09-01T09:54:09.682295",
     "status": "completed"
    },
    "tags": []
   },
   "source": [
    "> Splitted the dataset into training and testing sets"
   ]
  },
  {
   "cell_type": "code",
   "execution_count": 8,
   "id": "fdd0029d",
   "metadata": {
    "execution": {
     "iopub.execute_input": "2021-09-01T09:54:09.740122Z",
     "iopub.status.busy": "2021-09-01T09:54:09.739585Z",
     "iopub.status.idle": "2021-09-01T09:54:13.630619Z",
     "shell.execute_reply": "2021-09-01T09:54:13.630086Z",
     "shell.execute_reply.started": "2021-09-01T09:36:44.082390Z"
    },
    "papermill": {
     "duration": 3.912376,
     "end_time": "2021-09-01T09:54:13.630755",
     "exception": false,
     "start_time": "2021-09-01T09:54:09.718379",
     "status": "completed"
    },
    "tags": []
   },
   "outputs": [],
   "source": [
    "import tensorflow as tf\n",
    "from tensorflow.keras.preprocessing.image import ImageDataGenerator\n",
    "from tensorflow import keras"
   ]
  },
  {
   "cell_type": "code",
   "execution_count": 9,
   "id": "49265bb8",
   "metadata": {
    "execution": {
     "iopub.execute_input": "2021-09-01T09:54:13.676200Z",
     "iopub.status.busy": "2021-09-01T09:54:13.675673Z",
     "iopub.status.idle": "2021-09-01T09:54:20.252771Z",
     "shell.execute_reply": "2021-09-01T09:54:20.252338Z",
     "shell.execute_reply.started": "2021-09-01T09:36:49.608995Z"
    },
    "papermill": {
     "duration": 6.603307,
     "end_time": "2021-09-01T09:54:20.252909",
     "exception": false,
     "start_time": "2021-09-01T09:54:13.649602",
     "status": "completed"
    },
    "tags": []
   },
   "outputs": [
    {
     "name": "stdout",
     "output_type": "stream",
     "text": [
      "Found 15525 validated image filenames belonging to 2 classes.\n",
      "Found 1725 validated image filenames belonging to 2 classes.\n",
      "Found 5750 validated image filenames belonging to 2 classes.\n"
     ]
    }
   ],
   "source": [
    "train_gen = ImageDataGenerator(validation_split=0.1,rotation_range=10, # rotation\n",
    "        width_shift_range=0.2, # horizontal shift\n",
    "        height_shift_range=0.2, # vertical shift\n",
    "        zoom_range=0.2, # zoom\n",
    "        horizontal_flip=True, # horizontal flip\n",
    "        brightness_range=[0.2,1.2]) # brightness)\n",
    "test_gen = ImageDataGenerator(rotation_range=10, # rotation\n",
    "        width_shift_range=0.2, # horizontal shift\n",
    "        height_shift_range=0.2, # vertical shift\n",
    "        zoom_range=0.2, # zoom\n",
    "        horizontal_flip=True, # horizontal flip\n",
    "        brightness_range=[0.2,1.2]) # brightness)\n",
    "\n",
    "train_data = train_gen.flow_from_dataframe(\n",
    "    dataframe = train_set,\n",
    "    x_col = 0,\n",
    "    y_col = 1,\n",
    "    target_size = (227,227),\n",
    "    color_mode = 'rgb',\n",
    "    class_mode = 'categorical',\n",
    "    shuffle = True,\n",
    "    subset = 'training',\n",
    "    batch_size=100,\n",
    "    seed=2020\n",
    ")\n",
    "\n",
    "val_data = train_gen.flow_from_dataframe(\n",
    "    dataframe = train_set,\n",
    "    x_col = 0,\n",
    "    y_col = 1,\n",
    "    target_size = (227,227),\n",
    "    color_mode = 'rgb',\n",
    "    class_mode = 'categorical',\n",
    "    shuffle = False,\n",
    "    subset = 'validation',\n",
    "    batch_size=100,\n",
    "    seed=2020\n",
    ")\n",
    "\n",
    "test_data = test_gen.flow_from_dataframe(\n",
    "    dataframe = test_set,\n",
    "    x_col = 0,\n",
    "    y_col = 1,\n",
    "    target_size = (227,227),\n",
    "    color_mode = 'rgb',\n",
    "    class_mode = 'categorical',\n",
    "    shuffle = False,\n",
    "    batch_size=100,\n",
    "    seed=2020\n",
    ")"
   ]
  },
  {
   "cell_type": "markdown",
   "id": "4ad2e536",
   "metadata": {
    "papermill": {
     "duration": 0.018688,
     "end_time": "2021-09-01T09:54:20.290490",
     "exception": false,
     "start_time": "2021-09-01T09:54:20.271802",
     "status": "completed"
    },
    "tags": []
   },
   "source": [
    "> Getting the Traininig, Validation & Testing images"
   ]
  },
  {
   "cell_type": "code",
   "execution_count": 10,
   "id": "a6141e12",
   "metadata": {
    "execution": {
     "iopub.execute_input": "2021-09-01T09:54:20.340010Z",
     "iopub.status.busy": "2021-09-01T09:54:20.339502Z",
     "iopub.status.idle": "2021-09-01T09:54:22.556425Z",
     "shell.execute_reply": "2021-09-01T09:54:22.555806Z",
     "shell.execute_reply.started": "2021-09-01T09:37:07.879296Z"
    },
    "papermill": {
     "duration": 2.247279,
     "end_time": "2021-09-01T09:54:22.556584",
     "exception": false,
     "start_time": "2021-09-01T09:54:20.309305",
     "status": "completed"
    },
    "tags": []
   },
   "outputs": [],
   "source": [
    "model = keras.models.Sequential([\n",
    "    keras.layers.Conv2D(filters=96, kernel_size=(11,11), strides=(4,4), activation='relu', input_shape=(227,227,3)),\n",
    "    keras.layers.BatchNormalization(),\n",
    "    keras.layers.MaxPool2D(pool_size=(3,3), strides=(2,2)),\n",
    "    keras.layers.Conv2D(filters=256, kernel_size=(5,5), strides=(1,1), activation='relu', padding=\"same\"),\n",
    "    keras.layers.BatchNormalization(),\n",
    "    keras.layers.MaxPool2D(pool_size=(3,3), strides=(2,2)),\n",
    "    keras.layers.Conv2D(filters=384, kernel_size=(3,3), strides=(1,1), activation='relu', padding=\"same\"),\n",
    "    keras.layers.BatchNormalization(),\n",
    "    keras.layers.Conv2D(filters=384, kernel_size=(3,3), strides=(1,1), activation='relu', padding=\"same\"),\n",
    "    keras.layers.BatchNormalization(),\n",
    "    keras.layers.Conv2D(filters=256, kernel_size=(3,3), strides=(1,1), activation='relu', padding=\"same\"),\n",
    "    keras.layers.BatchNormalization(),\n",
    "    keras.layers.MaxPool2D(pool_size=(3,3), strides=(2,2)),\n",
    "    keras.layers.Flatten(),\n",
    "    keras.layers.Dense(4096, activation='relu'),\n",
    "    keras.layers.Dropout(0.5),\n",
    "    keras.layers.Dense(4096, activation='relu'),\n",
    "    keras.layers.Dropout(0.5),\n",
    "    keras.layers.Dense(2, activation='sigmoid')\n",
    "])\n",
    "model.compile(\n",
    "    optimizer=tf.optimizers.Adam(lr=0.000001),\n",
    "    loss='binary_crossentropy',\n",
    "    metrics=['accuracy','Recall']\n",
    ")\n"
   ]
  },
  {
   "cell_type": "markdown",
   "id": "d16b117b",
   "metadata": {
    "papermill": {
     "duration": 0.018475,
     "end_time": "2021-09-01T09:54:22.594317",
     "exception": false,
     "start_time": "2021-09-01T09:54:22.575842",
     "status": "completed"
    },
    "tags": []
   },
   "source": [
    "> Model creation & compilation"
   ]
  },
  {
   "cell_type": "code",
   "execution_count": 11,
   "id": "67ccb112",
   "metadata": {
    "execution": {
     "iopub.execute_input": "2021-09-01T09:54:22.638990Z",
     "iopub.status.busy": "2021-09-01T09:54:22.635740Z",
     "iopub.status.idle": "2021-09-01T09:54:22.648352Z",
     "shell.execute_reply": "2021-09-01T09:54:22.648809Z",
     "shell.execute_reply.started": "2021-09-01T09:37:10.836627Z"
    },
    "papermill": {
     "duration": 0.035811,
     "end_time": "2021-09-01T09:54:22.648945",
     "exception": false,
     "start_time": "2021-09-01T09:54:22.613134",
     "status": "completed"
    },
    "tags": []
   },
   "outputs": [
    {
     "name": "stdout",
     "output_type": "stream",
     "text": [
      "Model: \"sequential\"\n",
      "_________________________________________________________________\n",
      "Layer (type)                 Output Shape              Param #   \n",
      "=================================================================\n",
      "conv2d (Conv2D)              (None, 55, 55, 96)        34944     \n",
      "_________________________________________________________________\n",
      "batch_normalization (BatchNo (None, 55, 55, 96)        384       \n",
      "_________________________________________________________________\n",
      "max_pooling2d (MaxPooling2D) (None, 27, 27, 96)        0         \n",
      "_________________________________________________________________\n",
      "conv2d_1 (Conv2D)            (None, 27, 27, 256)       614656    \n",
      "_________________________________________________________________\n",
      "batch_normalization_1 (Batch (None, 27, 27, 256)       1024      \n",
      "_________________________________________________________________\n",
      "max_pooling2d_1 (MaxPooling2 (None, 13, 13, 256)       0         \n",
      "_________________________________________________________________\n",
      "conv2d_2 (Conv2D)            (None, 13, 13, 384)       885120    \n",
      "_________________________________________________________________\n",
      "batch_normalization_2 (Batch (None, 13, 13, 384)       1536      \n",
      "_________________________________________________________________\n",
      "conv2d_3 (Conv2D)            (None, 13, 13, 384)       1327488   \n",
      "_________________________________________________________________\n",
      "batch_normalization_3 (Batch (None, 13, 13, 384)       1536      \n",
      "_________________________________________________________________\n",
      "conv2d_4 (Conv2D)            (None, 13, 13, 256)       884992    \n",
      "_________________________________________________________________\n",
      "batch_normalization_4 (Batch (None, 13, 13, 256)       1024      \n",
      "_________________________________________________________________\n",
      "max_pooling2d_2 (MaxPooling2 (None, 6, 6, 256)         0         \n",
      "_________________________________________________________________\n",
      "flatten (Flatten)            (None, 9216)              0         \n",
      "_________________________________________________________________\n",
      "dense (Dense)                (None, 4096)              37752832  \n",
      "_________________________________________________________________\n",
      "dropout (Dropout)            (None, 4096)              0         \n",
      "_________________________________________________________________\n",
      "dense_1 (Dense)              (None, 4096)              16781312  \n",
      "_________________________________________________________________\n",
      "dropout_1 (Dropout)          (None, 4096)              0         \n",
      "_________________________________________________________________\n",
      "dense_2 (Dense)              (None, 2)                 8194      \n",
      "=================================================================\n",
      "Total params: 58,295,042\n",
      "Trainable params: 58,292,290\n",
      "Non-trainable params: 2,752\n",
      "_________________________________________________________________\n"
     ]
    }
   ],
   "source": [
    "model.summary()"
   ]
  },
  {
   "cell_type": "code",
   "execution_count": 12,
   "id": "640f4b31",
   "metadata": {
    "execution": {
     "iopub.execute_input": "2021-09-01T09:54:22.690952Z",
     "iopub.status.busy": "2021-09-01T09:54:22.690362Z",
     "iopub.status.idle": "2021-09-01T10:54:29.894924Z",
     "shell.execute_reply": "2021-09-01T10:54:29.895517Z",
     "shell.execute_reply.started": "2021-09-01T09:37:10.866912Z"
    },
    "papermill": {
     "duration": 3607.227852,
     "end_time": "2021-09-01T10:54:29.895702",
     "exception": false,
     "start_time": "2021-09-01T09:54:22.667850",
     "status": "completed"
    },
    "tags": []
   },
   "outputs": [
    {
     "name": "stdout",
     "output_type": "stream",
     "text": [
      "Epoch 1/15\n",
      "156/156 [==============================] - 304s 2s/step - loss: 1.1833 - accuracy: 0.5789 - recall: 0.5311 - val_loss: 0.6091 - val_accuracy: 0.6742 - val_recall: 0.7125\n",
      "Epoch 2/15\n",
      "156/156 [==============================] - 232s 1s/step - loss: 0.9498 - accuracy: 0.6799 - recall: 0.6474 - val_loss: 0.5438 - val_accuracy: 0.7212 - val_recall: 0.7525\n",
      "Epoch 3/15\n",
      "156/156 [==============================] - 233s 1s/step - loss: 0.8601 - accuracy: 0.7170 - recall: 0.6957 - val_loss: 0.4926 - val_accuracy: 0.7699 - val_recall: 0.8041\n",
      "Epoch 4/15\n",
      "156/156 [==============================] - 234s 1s/step - loss: 0.7607 - accuracy: 0.7509 - recall: 0.7214 - val_loss: 0.4667 - val_accuracy: 0.8000 - val_recall: 0.8400\n",
      "Epoch 5/15\n",
      "156/156 [==============================] - 234s 1s/step - loss: 0.7069 - accuracy: 0.7684 - recall: 0.7404 - val_loss: 0.4477 - val_accuracy: 0.8151 - val_recall: 0.8388\n",
      "Epoch 6/15\n",
      "156/156 [==============================] - 236s 2s/step - loss: 0.6625 - accuracy: 0.7873 - recall: 0.7572 - val_loss: 0.4097 - val_accuracy: 0.8255 - val_recall: 0.8539\n",
      "Epoch 7/15\n",
      "156/156 [==============================] - 235s 2s/step - loss: 0.6071 - accuracy: 0.8085 - recall: 0.7854 - val_loss: 0.3903 - val_accuracy: 0.8533 - val_recall: 0.8736\n",
      "Epoch 8/15\n",
      "156/156 [==============================] - 236s 2s/step - loss: 0.5751 - accuracy: 0.8099 - recall: 0.7868 - val_loss: 0.3817 - val_accuracy: 0.8504 - val_recall: 0.8707\n",
      "Epoch 9/15\n",
      "156/156 [==============================] - 237s 2s/step - loss: 0.5315 - accuracy: 0.8292 - recall: 0.8104 - val_loss: 0.3557 - val_accuracy: 0.8696 - val_recall: 0.8858\n",
      "Epoch 10/15\n",
      "156/156 [==============================] - 235s 2s/step - loss: 0.4911 - accuracy: 0.8428 - recall: 0.8234 - val_loss: 0.3373 - val_accuracy: 0.8707 - val_recall: 0.8899\n",
      "Epoch 11/15\n",
      "156/156 [==============================] - 235s 2s/step - loss: 0.4615 - accuracy: 0.8528 - recall: 0.8364 - val_loss: 0.3222 - val_accuracy: 0.8765 - val_recall: 0.8980\n",
      "Epoch 12/15\n",
      "156/156 [==============================] - 236s 2s/step - loss: 0.4449 - accuracy: 0.8591 - recall: 0.8423 - val_loss: 0.3088 - val_accuracy: 0.8812 - val_recall: 0.8997\n",
      "Epoch 13/15\n",
      "156/156 [==============================] - 242s 2s/step - loss: 0.4413 - accuracy: 0.8561 - recall: 0.8429 - val_loss: 0.2863 - val_accuracy: 0.8962 - val_recall: 0.9072\n",
      "Epoch 14/15\n",
      "156/156 [==============================] - 238s 2s/step - loss: 0.4093 - accuracy: 0.8660 - recall: 0.8510 - val_loss: 0.2698 - val_accuracy: 0.9003 - val_recall: 0.9107\n",
      "Epoch 15/15\n",
      "156/156 [==============================] - 237s 2s/step - loss: 0.3980 - accuracy: 0.8728 - recall: 0.8542 - val_loss: 0.2661 - val_accuracy: 0.9078 - val_recall: 0.9217\n"
     ]
    }
   ],
   "source": [
    "history = model.fit(train_data,epochs=15,validation_data=val_data)"
   ]
  },
  {
   "cell_type": "markdown",
   "id": "711e9281",
   "metadata": {
    "papermill": {
     "duration": 0.688428,
     "end_time": "2021-09-01T10:54:31.216350",
     "exception": false,
     "start_time": "2021-09-01T10:54:30.527922",
     "status": "completed"
    },
    "tags": []
   },
   "source": [
    "> Model Training"
   ]
  },
  {
   "cell_type": "code",
   "execution_count": 13,
   "id": "5e3268ae",
   "metadata": {
    "execution": {
     "iopub.execute_input": "2021-09-01T10:54:33.220420Z",
     "iopub.status.busy": "2021-09-01T10:54:33.219517Z",
     "iopub.status.idle": "2021-09-01T10:54:33.345109Z",
     "shell.execute_reply": "2021-09-01T10:54:33.345565Z"
    },
    "papermill": {
     "duration": 0.785105,
     "end_time": "2021-09-01T10:54:33.345711",
     "exception": false,
     "start_time": "2021-09-01T10:54:32.560606",
     "status": "completed"
    },
    "tags": []
   },
   "outputs": [
    {
     "data": {
      "image/png": "[encoded data removed]",
      "text/plain": [
       "<Figure size 432x288 with 1 Axes>"
      ]
     },
     "metadata": {
      "needs_background": "light"
     },
     "output_type": "display_data"
    }
   ],
   "source": [
    "import matplotlib.pyplot as plt\n",
    "#plotting the Accuracy of test and training sets\n",
    "plt.plot(history.history['accuracy'])\n",
    "plt.plot(history.history['val_accuracy'])\n",
    "plt.title('Model Accuracy')\n",
    "plt.ylabel('accuracy')\n",
    "plt.xlabel('epoch')\n",
    "plt.legend(['train', 'test'], loc='upper left')\n",
    "plt.show()"
   ]
  },
  {
   "cell_type": "code",
   "execution_count": 14,
   "id": "c4d8b871",
   "metadata": {
    "execution": {
     "iopub.execute_input": "2021-09-01T10:54:34.624151Z",
     "iopub.status.busy": "2021-09-01T10:54:34.622959Z",
     "iopub.status.idle": "2021-09-01T10:54:34.755127Z",
     "shell.execute_reply": "2021-09-01T10:54:34.754703Z"
    },
    "papermill": {
     "duration": 0.779989,
     "end_time": "2021-09-01T10:54:34.755267",
     "exception": false,
     "start_time": "2021-09-01T10:54:33.975278",
     "status": "completed"
    },
    "tags": []
   },
   "outputs": [
    {
     "data": {
      "image/png": "[encoded data removed]",
      "text/plain": [
       "<Figure size 432x288 with 1 Axes>"
      ]
     },
     "metadata": {
      "needs_background": "light"
     },
     "output_type": "display_data"
    }
   ],
   "source": [
    "#plotting the loss of test and training sets\n",
    "plt.plot(history.history['loss'])\n",
    "plt.plot(history.history['val_loss'])\n",
    "plt.title('Model Loss')\n",
    "plt.ylabel('loss')\n",
    "plt.xlabel('epoch')\n",
    "plt.legend(['train', 'test'], loc='upper left')\n",
    "plt.show()"
   ]
  },
  {
   "cell_type": "code",
   "execution_count": 15,
   "id": "6b8bbf69",
   "metadata": {
    "execution": {
     "iopub.execute_input": "2021-09-01T10:54:36.014787Z",
     "iopub.status.busy": "2021-09-01T10:54:36.014264Z",
     "iopub.status.idle": "2021-09-01T10:56:20.546878Z",
     "shell.execute_reply": "2021-09-01T10:56:20.546391Z"
    },
    "papermill": {
     "duration": 105.158993,
     "end_time": "2021-09-01T10:56:20.547023",
     "exception": false,
     "start_time": "2021-09-01T10:54:35.388030",
     "status": "completed"
    },
    "tags": []
   },
   "outputs": [],
   "source": [
    "y_pred = model.predict(test_data)\n",
    "y_pred = np.argmax(y_pred,axis=1)"
   ]
  },
  {
   "cell_type": "code",
   "execution_count": 16,
   "id": "45526690",
   "metadata": {
    "execution": {
     "iopub.execute_input": "2021-09-01T10:56:22.031561Z",
     "iopub.status.busy": "2021-09-01T10:56:22.030845Z",
     "iopub.status.idle": "2021-09-01T10:56:22.047410Z",
     "shell.execute_reply": "2021-09-01T10:56:22.047778Z"
    },
    "papermill": {
     "duration": 0.87604,
     "end_time": "2021-09-01T10:56:22.047926",
     "exception": false,
     "start_time": "2021-09-01T10:56:21.171886",
     "status": "completed"
    },
    "tags": []
   },
   "outputs": [
    {
     "name": "stdout",
     "output_type": "stream",
     "text": [
      "              precision    recall  f1-score   support\n",
      "\n",
      "           0       0.90      0.95      0.92      3739\n",
      "           1       0.90      0.79      0.84      2011\n",
      "\n",
      "    accuracy                           0.90      5750\n",
      "   macro avg       0.90      0.87      0.88      5750\n",
      "weighted avg       0.90      0.90      0.90      5750\n",
      "\n"
     ]
    }
   ],
   "source": [
    "from sklearn.metrics import classification_report, confusion_matrix\n",
    "print(classification_report(test_data.labels,y_pred))"
   ]
  },
  {
   "cell_type": "code",
   "execution_count": 17,
   "id": "dff891ef",
   "metadata": {
    "execution": {
     "iopub.execute_input": "2021-09-01T10:56:23.337969Z",
     "iopub.status.busy": "2021-09-01T10:56:23.337257Z",
     "iopub.status.idle": "2021-09-01T10:56:23.350072Z",
     "shell.execute_reply": "2021-09-01T10:56:23.349667Z"
    },
    "papermill": {
     "duration": 0.643851,
     "end_time": "2021-09-01T10:56:23.350202",
     "exception": false,
     "start_time": "2021-09-01T10:56:22.706351",
     "status": "completed"
    },
    "tags": []
   },
   "outputs": [],
   "source": [
    "classes=['Damage','No Damage']\n",
    "con_mat_df = pd.DataFrame(confusion_matrix(test_data.labels,y_pred),\n",
    "                     index = classes, \n",
    "                     columns = classes)"
   ]
  },
  {
   "cell_type": "code",
   "execution_count": 18,
   "id": "b7ba7f7f",
   "metadata": {
    "execution": {
     "iopub.execute_input": "2021-09-01T10:56:24.609094Z",
     "iopub.status.busy": "2021-09-01T10:56:24.608262Z",
     "iopub.status.idle": "2021-09-01T10:56:24.873718Z",
     "shell.execute_reply": "2021-09-01T10:56:24.873315Z"
    },
    "papermill": {
     "duration": 0.902534,
     "end_time": "2021-09-01T10:56:24.873838",
     "exception": false,
     "start_time": "2021-09-01T10:56:23.971304",
     "status": "completed"
    },
    "tags": []
   },
   "outputs": [
    {
     "data": {
      "image/png": "[encoded data removed]",
      "text/plain": [
       "<Figure size 864x432 with 2 Axes>"
      ]
     },
     "metadata": {
      "needs_background": "light"
     },
     "output_type": "display_data"
    }
   ],
   "source": [
    "import seaborn as sns\n",
    "figure = plt.figure(figsize=(12, 6))\n",
    "sns.heatmap(con_mat_df, annot=True,cmap=plt.cm.cool,fmt='d')\n",
    "plt.tight_layout()\n",
    "plt.ylabel('Actual')\n",
    "plt.xlabel('Predicted')\n",
    "plt.show()"
   ]
  },
  {
   "cell_type": "code",
   "execution_count": null,
   "id": "d15c32b4",
   "metadata": {
    "papermill": {
     "duration": 0.626189,
     "end_time": "2021-09-01T10:56:26.126085",
     "exception": false,
     "start_time": "2021-09-01T10:56:25.499896",
     "status": "completed"
    },
    "tags": []
   },
   "outputs": [],
   "source": []
  }
 ],
 "metadata": {
  "kernelspec": {
   "display_name": "Python 3",
   "language": "python",
   "name": "python3"
  },
  "language_info": {
   "codemirror_mode": {
    "name": "ipython",
    "version": 3
   },
   "file_extension": ".py",
   "mimetype": "text/x-python",
   "name": "python",
   "nbconvert_exporter": "python",
   "pygments_lexer": "ipython3",
   "version": "3.7.10"
  },
  "papermill": {
   "default_parameters": {},
   "duration": 3790.910748,
   "end_time": "2021-09-01T10:56:29.357599",
   "environment_variables": {},
   "exception": null,
   "input_path": "__notebook__.ipynb",
   "output_path": "__notebook__.ipynb",
   "parameters": {},
   "start_time": "2021-09-01T09:53:18.446851",
   "version": "2.3.3"
  }
 },
 "nbformat": 4,
 "nbformat_minor": 5
}
